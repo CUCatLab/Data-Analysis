{
 "cells": [
  {
   "cell_type": "markdown",
   "id": "a486c077-db95-44f9-84e1-e8d85d82e60f",
   "metadata": {},
   "source": [
    "<h1>CD Analysis</h1>"
   ]
  },
  {
   "cell_type": "code",
   "execution_count": 1,
   "id": "177f0434-716c-4e64-ba9d-50615c846327",
   "metadata": {
    "tags": []
   },
   "outputs": [
    {
     "ename": "AttributeError",
     "evalue": "module 'tools.cd' has no attribute 'UI'",
     "output_type": "error",
     "traceback": [
      "\u001b[1;31m---------------------------------------------------------------------------\u001b[0m",
      "\u001b[1;31mAttributeError\u001b[0m                            Traceback (most recent call last)",
      "Cell \u001b[1;32mIn[1], line 5\u001b[0m\n\u001b[0;32m      2\u001b[0m \u001b[38;5;28;01mfrom\u001b[39;00m\u001b[38;5;250m \u001b[39m\u001b[38;5;21;01mtools\u001b[39;00m\u001b[38;5;250m \u001b[39m\u001b[38;5;28;01mimport\u001b[39;00m cd\n\u001b[0;32m      3\u001b[0m reload(cd)\n\u001b[1;32m----> 5\u001b[0m cd \u001b[38;5;241m=\u001b[39m \u001b[43mcd\u001b[49m\u001b[38;5;241;43m.\u001b[39;49m\u001b[43mUI\u001b[49m()\n",
      "\u001b[1;31mAttributeError\u001b[0m: module 'tools.cd' has no attribute 'UI'"
     ]
    }
   ],
   "source": [
    "from importlib import reload\n",
    "from tools import cd\n",
    "reload(cd)\n",
    "\n",
    "cd = cd.UI()"
   ]
  },
  {
   "cell_type": "markdown",
   "id": "8ee9383e-6593-4072-bbfa-ed3974d1b3bb",
   "metadata": {},
   "source": [
    " "
   ]
  }
 ],
 "metadata": {
  "kernelspec": {
   "display_name": "Python 3 (ipykernel)",
   "language": "python",
   "name": "python3"
  },
  "language_info": {
   "codemirror_mode": {
    "name": "ipython",
    "version": 3
   },
   "file_extension": ".py",
   "mimetype": "text/x-python",
   "name": "python",
   "nbconvert_exporter": "python",
   "pygments_lexer": "ipython3",
   "version": "3.10.16"
  }
 },
 "nbformat": 4,
 "nbformat_minor": 5
}
